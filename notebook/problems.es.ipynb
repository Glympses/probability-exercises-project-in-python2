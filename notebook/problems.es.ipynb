{
 "cells": [
  {
   "cell_type": "markdown",
   "id": "a41f3622",
   "metadata": {},
   "source": [
    "# Ejercicios de probabilidad"
   ]
  },
  {
   "cell_type": "markdown",
   "id": "a6bdbd89",
   "metadata": {},
   "source": [
    "## Ejercicio 1 \n",
    "\n",
    "Dos dados se lanzan una vez y se observa el total obtenido. Usa una simulación para encontrar la probabilidad estimada de que la puntuación sea mayor a 7 o un número par. Una simulación es una repetición del mismo experimento multiples veces para observar su comportamiento:\n",
    "\n",
    "- Ejecuta el experimento 1000 veces (lanza 2 dados 1000 veces, y suma el número de ambos dados).\n",
    "- Lleva ua cuenta de los números y las veces que la suma fue mayor a 7 o un número par.\n",
    "- Divide el número del paso 2 entre el número de iteraciones(1000)."
   ]
  },
  {
   "cell_type": "code",
   "execution_count": 23,
   "id": "8939d892",
   "metadata": {},
   "outputs": [],
   "source": [
    "# TODO\n",
    "import numpy as np\n",
    "\n",
    "def lanzamiento_de_dado():\n",
    "    return np.random.randint(1,7)\n"
   ]
  },
  {
   "cell_type": "code",
   "execution_count": 96,
   "id": "9c431381",
   "metadata": {},
   "outputs": [
    {
     "name": "stdout",
     "output_type": "stream",
     "text": [
      "numero de veces que fue mayor que 7 : 432\n",
      "numero de veces que fue par : 499\n",
      "numero de veces que la suma fue mayor que 7 o par : 685\n",
      "probabilidad teorica de que sea mayor que 7 : 0.4166666666666667\n",
      "probabilidad teorica de que sea par : 0.5\n",
      "probabilidad empirica de que sea mayor que 7 : 0.432\n",
      "probabilidad empirica de que sea par : 0.499\n"
     ]
    }
   ],
   "source": [
    "cuenta_mayor_7 = 0\n",
    "cuenta_par = 0\n",
    "cuenta_mayor_7_o_par=0\n",
    "for i in range(1000):\n",
    "    suma = lanzamiento_de_dado() + lanzamiento_de_dado()\n",
    "    if suma > 7:\n",
    "        cuenta_mayor_7 +=1\n",
    "    if suma%2 ==0:\n",
    "        cuenta_par +=1\n",
    "    if (suma > 7) or (suma%2==0):\n",
    "        cuenta_mayor_7_o_par +=1\n",
    "    \n",
    "\n",
    "print(f'numero de veces que fue mayor que 7 : {cuenta_mayor_7}')\n",
    "print(f'numero de veces que fue par : {cuenta_par}')\n",
    "print(f'numero de veces que la suma fue mayor que 7 o par : {cuenta_mayor_7_o_par}')\n",
    "\n",
    "#{2,3,4,5,6,7,8,9,10,11,12}\n",
    "#{(1,1),(1,2),(2,1),4-3,5-4,6-5,7-6,8-5,9-4,10-3,11-2,12-1} = 36\n",
    "#probabilidad de sea mayor que 7 --> 5+4+3+2+1 = 15/36 posibles\n",
    "probabilidad_teorica_mayor_7 = 15/36\n",
    "#probabilidad de ser par = 1+3+5+5+3+1 = 18 --> 18/36 --> 50%\n",
    "\n",
    "print(f'probabilidad teorica de que sea mayor que 7 : {probabilidad_teorica_mayor_7}')\n",
    "print(f'probabilidad teorica de que sea par : 0.5')\n",
    "print(f'probabilidad empirica de que sea mayor que 7 : {cuenta_mayor_7/1000}')\n",
    "print(f'probabilidad empirica de que sea par : {cuenta_par/1000}')\n",
    "\n"
   ]
  },
  {
   "cell_type": "markdown",
   "id": "55732bca",
   "metadata": {},
   "source": [
    "## Ejercicio 2\n",
    "\n",
    "Una caja contiene 10 bolas blancas, 20 bolas rojas y 30 bolas verdes. Si tomamos 5 bolas de la caja reemplazándolas (tomando una bola, anotando el color y luego regresandola a la caja). Queremos saber la probabilidad de:\n",
    "\n",
    "1. Tomar 3 blancas y 2 rojas.\n",
    "2. Toas todas del mismo color.\n",
    "\n",
    "Ejecuta el experimento 1000 veces y calcula las probabilidades que mencionadas."
   ]
  },
  {
   "cell_type": "code",
   "execution_count": 97,
   "id": "23244d20",
   "metadata": {},
   "outputs": [
    {
     "name": "stdout",
     "output_type": "stream",
     "text": [
      "{0: 'White', 1: 'White', 2: 'White', 3: 'White', 4: 'White', 5: 'White', 6: 'White', 7: 'White', 8: 'White', 9: 'White', 10: 'Red', 11: 'Red', 12: 'Red', 13: 'Red', 14: 'Red', 15: 'Red', 16: 'Red', 17: 'Red', 18: 'Red', 19: 'Red', 20: 'Red', 21: 'Red', 22: 'Red', 23: 'Red', 24: 'Red', 25: 'Red', 26: 'Red', 27: 'Red', 28: 'Red', 29: 'Red', 30: 'Green', 31: 'Green', 32: 'Green', 33: 'Green', 34: 'Green', 35: 'Green', 36: 'Green', 37: 'Green', 38: 'Green', 39: 'Green', 40: 'Green', 41: 'Green', 42: 'Green', 43: 'Green', 44: 'Green', 45: 'Green', 46: 'Green', 47: 'Green', 48: 'Green', 49: 'Green', 50: 'Green', 51: 'Green', 52: 'Green', 53: 'Green', 54: 'Green', 55: 'Green', 56: 'Green', 57: 'Green', 58: 'Green', 59: 'Green'}\n"
     ]
    }
   ],
   "source": [
    "ball_box = {}\n",
    "\n",
    "# Crea la cajas con las bolas\n",
    "for i in range(60):\n",
    "    if i < 10:\n",
    "        ball_box[i] = \"White\"\n",
    "    elif (i > 9) and (i < 30):\n",
    "        ball_box[i] = \"Red\"\n",
    "    else:\n",
    "        ball_box[i] = \"Green\"\n",
    "\n",
    "print(ball_box)\n",
    "            \n",
    "# TODO"
   ]
  },
  {
   "cell_type": "code",
   "execution_count": 136,
   "id": "8331242c",
   "metadata": {},
   "outputs": [],
   "source": [
    "def sacar_bolita():\n",
    "    numero = np.random.randint(0,60)\n",
    "    return ball_box[numero]"
   ]
  },
  {
   "cell_type": "code",
   "execution_count": 125,
   "id": "471d1afa",
   "metadata": {},
   "outputs": [],
   "source": [
    "def sacar_5_bolitas():\n",
    "    lista_bolitas =[]\n",
    "    for i in range(5):\n",
    "        bolita = sacar_bolita()\n",
    "        lista_bolitas.append(bolita)\n",
    "    return lista_bolitas"
   ]
  },
  {
   "cell_type": "code",
   "execution_count": 133,
   "id": "9485f18c",
   "metadata": {},
   "outputs": [],
   "source": [
    "lista = sacar_5_bolitas()"
   ]
  },
  {
   "cell_type": "code",
   "execution_count": 134,
   "id": "d22f8586",
   "metadata": {},
   "outputs": [
    {
     "name": "stdout",
     "output_type": "stream",
     "text": [
      "['Green', 'Red', 'Green', 'Red', 'Red']\n",
      "3\n"
     ]
    }
   ],
   "source": [
    "print(lista)\n",
    "print(lista.count('Red'))"
   ]
  },
  {
   "cell_type": "code",
   "execution_count": 202,
   "id": "539d8692",
   "metadata": {},
   "outputs": [
    {
     "name": "stdout",
     "output_type": "stream",
     "text": [
      "3 blancas y 2 rojas : 5\n",
      "todas mismo color : 42\n",
      "probabilidad 3 rojas y 2 blancas : 0.5%\n",
      "probabilidad todas del mismo color : 4.2%\n",
      "porbabilidad 3 blancas y 2 rojas en orden : 0.2%\n"
     ]
    }
   ],
   "source": [
    "contador_3_blancas_2_rojas = 0\n",
    "contador_todas_mismo_color = 0\n",
    "contador_3_blancas_2_rojas_en_orden = 0\n",
    "for i in range(1000):\n",
    "    lista = sacar_5_bolitas()\n",
    "    if (lista.count('White') == 3) and (lista.count('Red') == 2):\n",
    "        contador_3_blancas_2_rojas +=1\n",
    "    if (lista.count('White')==5) or (lista.count('Red')==5) or (lista.count('Green')==5):\n",
    "        contador_todas_mismo_color +=1\n",
    "    if lista == ['White','White','White','Red','Red']:\n",
    "        contador_3_blancas_2_rojas_en_orden +=1\n",
    "\n",
    "print(f'3 blancas y 2 rojas : {contador_3_blancas_2_rojas}')\n",
    "print(f'todas mismo color : {contador_todas_mismo_color}')\n",
    "\n",
    "print(f'probabilidad 3 rojas y 2 blancas : {contador_3_blancas_2_rojas/1000*100}%')\n",
    "print(f'probabilidad todas del mismo color : {contador_todas_mismo_color/1000*100}%')\n",
    "print(f'porbabilidad 3 blancas y 2 rojas en orden : {np.round(contador_3_blancas_2_rojas_en_orden/1000*100,3)}%')"
   ]
  }
 ],
 "metadata": {
  "kernelspec": {
   "display_name": "Python 3",
   "language": "python",
   "name": "python3"
  },
  "language_info": {
   "codemirror_mode": {
    "name": "ipython",
    "version": 3
   },
   "file_extension": ".py",
   "mimetype": "text/x-python",
   "name": "python",
   "nbconvert_exporter": "python",
   "pygments_lexer": "ipython3",
   "version": "3.11.4"
  }
 },
 "nbformat": 4,
 "nbformat_minor": 5
}
